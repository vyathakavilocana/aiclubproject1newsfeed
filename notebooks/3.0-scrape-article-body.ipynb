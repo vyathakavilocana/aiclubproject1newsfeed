{
 "cells": [
  {
   "cell_type": "code",
   "execution_count": null,
   "outputs": [],
   "source": [
    "import pandas as pd"
   ],
   "metadata": {
    "collapsed": false,
    "pycharm": {
     "name": "#%%\n"
    }
   }
  },
  {
   "cell_type": "code",
   "execution_count": null,
   "outputs": [],
   "source": [
    "csv_path = '../data/articles_sources_removed.csv'\n",
    "\n",
    "articles = pd.read_csv(csv_path)\n",
    "articles.head()"
   ],
   "metadata": {
    "collapsed": false,
    "pycharm": {
     "name": "#%%\n"
    }
   }
  },
  {
   "cell_type": "code",
   "execution_count": null,
   "outputs": [],
   "source": [
    "a = articles.iloc[0]['url']\n",
    "a"
   ],
   "metadata": {
    "collapsed": false,
    "pycharm": {
     "name": "#%%\n"
    }
   }
  },
  {
   "cell_type": "code",
   "execution_count": null,
   "outputs": [],
   "source": [
    "import requests\n",
    "\n",
    "headers = {\n",
    "    'User-Agent': 'Mozilla/5.0 (Windows NT 6.1; Win64; x64; rv:47.0) Gecko/20100101 Firefox/47.0'\n",
    "}\n",
    "\n",
    "response = requests.get(a, headers=headers)\n",
    "response.status_code"
   ],
   "metadata": {
    "collapsed": false,
    "pycharm": {
     "name": "#%%\n"
    }
   }
  },
  {
   "cell_type": "code",
   "execution_count": null,
   "outputs": [],
   "source": [
    "import bs4\n",
    "\n",
    "soup = bs4.BeautifulSoup(response.content)\n",
    "entry_text = soup.select('.entry__text')[0]\n",
    "content = entry_text.select('.content-list-component')\n",
    "\n",
    "full_text = []\n",
    "for item in content:\n",
    "\n",
    "    for el in item.contents:\n",
    "        if isinstance(el, bs4.NavigableString):\n",
    "            text = el.strip()\n",
    "        else:\n",
    "            text = el.text.strip()\n",
    "\n",
    "        if text:\n",
    "            full_text.append(text)\n",
    "\n",
    "print('\\n'.join(full_text))"
   ],
   "metadata": {
    "collapsed": false,
    "pycharm": {
     "name": "#%%\n"
    }
   }
  },
  {
   "cell_type": "code",
   "execution_count": null,
   "outputs": [],
   "source": [
    "def scrape_contents(art: str):\n",
    "    headers = {\n",
    "    'User-Agent': 'Mozilla/5.0 (Windows NT 6.1; Win64; x64; rv:47.0) Gecko/20100101 Firefox/47.0'\n",
    "    }\n",
    "\n",
    "    response = requests.get(art, headers=headers)\n",
    "\n",
    "    if response.status_code != 200:\n",
    "        return None\n",
    "\n",
    "    soup = bs4.BeautifulSoup(response.content)\n",
    "    entry_text = soup.select('.entry__text')[0]\n",
    "    content = entry_text.select('.content-list-component')\n",
    "\n",
    "    full_text = []\n",
    "    for item in content:\n",
    "        for el in item.contents:\n",
    "            if isinstance(el, bs4.NavigableString):\n",
    "                text = el.strip()\n",
    "            else:\n",
    "                text = el.text.strip()\n",
    "\n",
    "            if text:\n",
    "                full_text.append(text)\n",
    "\n",
    "    return '\\n'.join(full_text)"
   ],
   "metadata": {
    "collapsed": false,
    "pycharm": {
     "name": "#%%\n"
    }
   }
  },
  {
   "cell_type": "code",
   "execution_count": null,
   "outputs": [],
   "source": [
    "hp = articles.loc[articles['source'] == 'Huffington Post']\n",
    "\n",
    "cntnt = []\n",
    "for hp_a in hp.itertuples():\n",
    "    cntnt.append(scrape_contents(hp_a[1]))\n",
    "\n",
    "for cnt in cntnt:\n",
    "    print(cnt, '\\n\\n\\n')"
   ],
   "metadata": {
    "collapsed": false,
    "pycharm": {
     "name": "#%%\n"
    }
   }
  },
  {
   "cell_type": "code",
   "execution_count": null,
   "metadata": {
    "collapsed": true
   },
   "outputs": [],
   "source": []
  }
 ],
 "metadata": {
  "kernelspec": {
   "name": "pycharm-d76a7824",
   "language": "python",
   "display_name": "PyCharm (aiclubproject1newsfeed)"
  },
  "language_info": {
   "codemirror_mode": {
    "name": "ipython",
    "version": 2
   },
   "file_extension": ".py",
   "mimetype": "text/x-python",
   "name": "python",
   "nbconvert_exporter": "python",
   "pygments_lexer": "ipython2",
   "version": "2.7.6"
  }
 },
 "nbformat": 4,
 "nbformat_minor": 0
}
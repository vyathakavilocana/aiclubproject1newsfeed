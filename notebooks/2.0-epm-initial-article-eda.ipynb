{
 "cells": [
  {
   "cell_type": "markdown",
   "source": [
    "# Article Data EDA & Cleaning\n",
    "\n",
    "---\n",
    "\n",
    "The raw article dataset in 'articles.csv' has the following features and labels\n",
    "###### Labels\n",
    "- **bias** The bias score of the article\n",
    "- **quality** The reliability score of the article\n",
    "\n",
    "###### Features\n",
    "- **article_id** The article's unique ID number\n",
    "- **source_id** The unique ID number of the article's source\n",
    "- **url** - The article's URL\n",
    "- **score_count:** - ??? (I believe this may be the number of individual ratings of the article's bias and reliability)\n",
    "- **domain** - The domain of the article's source\n",
    "- **source** - The name of the article's source\n",
    "- **image_path** - The relative path of the source's logo for the website\n",
    "- **image_width** - The width of the source's logo image\n",
    "- **image_height** - The height of the source's logo image\n",
    "- **is_tv** - ???\n",
    "- **reach** - ???\n",
    "- **article_count** - The number of articles in the dataset from the article's source"
   ],
   "metadata": {
    "collapsed": false
   }
  },
  {
   "cell_type": "markdown",
   "source": [
    "### Read in data"
   ],
   "metadata": {
    "collapsed": false
   }
  },
  {
   "cell_type": "code",
   "execution_count": 1,
   "outputs": [
    {
     "data": {
      "text/plain": "   article_id  source_id                                                url  \\\n0          31         46  https://www.huffpost.com/entry/pete-buttigieg-...   \n1          97         46  https://www.huffpost.com/entry/elizabeth-warre...   \n2         186         46  https://www.huffpost.com/entry/usmca-north-ame...   \n3         236         46  https://www.huffpost.com/entry/john-bolton-tru...   \n4         260         46  https://www.huffpost.com/entry/beyonc%C3%A9-ja...   \n\n        bias    quality  score_count                          domain  \\\n0 -10.142857  46.915997            7  http://www.huffingtonpost.com/   \n1  -8.750000  36.750120            8  http://www.huffingtonpost.com/   \n2 -11.111111  41.320375            9  http://www.huffingtonpost.com/   \n3 -11.375000  37.876554            8  http://www.huffingtonpost.com/   \n4 -10.500000  43.661313            8  http://www.huffingtonpost.com/   \n\n            source    image_path  image_width  image_height  is_tv  reach  \\\n0  Huffington Post  huffpost.png           45            45      0      0   \n1  Huffington Post  huffpost.png           45            45      0      0   \n2  Huffington Post  huffpost.png           45            45      0      0   \n3  Huffington Post  huffpost.png           45            45      0      0   \n4  Huffington Post  huffpost.png           45            45      0      0   \n\n   article_count  \n0             30  \n1             30  \n2             30  \n3             30  \n4             30  ",
      "text/html": "<div>\n<style scoped>\n    .dataframe tbody tr th:only-of-type {\n        vertical-align: middle;\n    }\n\n    .dataframe tbody tr th {\n        vertical-align: top;\n    }\n\n    .dataframe thead th {\n        text-align: right;\n    }\n</style>\n<table border=\"1\" class=\"dataframe\">\n  <thead>\n    <tr style=\"text-align: right;\">\n      <th></th>\n      <th>article_id</th>\n      <th>source_id</th>\n      <th>url</th>\n      <th>bias</th>\n      <th>quality</th>\n      <th>score_count</th>\n      <th>domain</th>\n      <th>source</th>\n      <th>image_path</th>\n      <th>image_width</th>\n      <th>image_height</th>\n      <th>is_tv</th>\n      <th>reach</th>\n      <th>article_count</th>\n    </tr>\n  </thead>\n  <tbody>\n    <tr>\n      <th>0</th>\n      <td>31</td>\n      <td>46</td>\n      <td>https://www.huffpost.com/entry/pete-buttigieg-...</td>\n      <td>-10.142857</td>\n      <td>46.915997</td>\n      <td>7</td>\n      <td>http://www.huffingtonpost.com/</td>\n      <td>Huffington Post</td>\n      <td>huffpost.png</td>\n      <td>45</td>\n      <td>45</td>\n      <td>0</td>\n      <td>0</td>\n      <td>30</td>\n    </tr>\n    <tr>\n      <th>1</th>\n      <td>97</td>\n      <td>46</td>\n      <td>https://www.huffpost.com/entry/elizabeth-warre...</td>\n      <td>-8.750000</td>\n      <td>36.750120</td>\n      <td>8</td>\n      <td>http://www.huffingtonpost.com/</td>\n      <td>Huffington Post</td>\n      <td>huffpost.png</td>\n      <td>45</td>\n      <td>45</td>\n      <td>0</td>\n      <td>0</td>\n      <td>30</td>\n    </tr>\n    <tr>\n      <th>2</th>\n      <td>186</td>\n      <td>46</td>\n      <td>https://www.huffpost.com/entry/usmca-north-ame...</td>\n      <td>-11.111111</td>\n      <td>41.320375</td>\n      <td>9</td>\n      <td>http://www.huffingtonpost.com/</td>\n      <td>Huffington Post</td>\n      <td>huffpost.png</td>\n      <td>45</td>\n      <td>45</td>\n      <td>0</td>\n      <td>0</td>\n      <td>30</td>\n    </tr>\n    <tr>\n      <th>3</th>\n      <td>236</td>\n      <td>46</td>\n      <td>https://www.huffpost.com/entry/john-bolton-tru...</td>\n      <td>-11.375000</td>\n      <td>37.876554</td>\n      <td>8</td>\n      <td>http://www.huffingtonpost.com/</td>\n      <td>Huffington Post</td>\n      <td>huffpost.png</td>\n      <td>45</td>\n      <td>45</td>\n      <td>0</td>\n      <td>0</td>\n      <td>30</td>\n    </tr>\n    <tr>\n      <th>4</th>\n      <td>260</td>\n      <td>46</td>\n      <td>https://www.huffpost.com/entry/beyonc%C3%A9-ja...</td>\n      <td>-10.500000</td>\n      <td>43.661313</td>\n      <td>8</td>\n      <td>http://www.huffingtonpost.com/</td>\n      <td>Huffington Post</td>\n      <td>huffpost.png</td>\n      <td>45</td>\n      <td>45</td>\n      <td>0</td>\n      <td>0</td>\n      <td>30</td>\n    </tr>\n  </tbody>\n</table>\n</div>"
     },
     "execution_count": 1,
     "metadata": {},
     "output_type": "execute_result"
    }
   ],
   "source": [
    "import matplotlib.pyplot as plt\n",
    "import pandas as pd\n",
    "import seaborn as sns\n",
    "%matplotlib inline\n",
    "\n",
    "articles = pd.read_csv('../data/interim/articles.csv')\n",
    "articles.head()"
   ],
   "metadata": {
    "collapsed": false,
    "pycharm": {
     "name": "#%%\n"
    }
   }
  },
  {
   "cell_type": "markdown",
   "source": [
    "### Drop unneeded features"
   ],
   "metadata": {
    "collapsed": false
   }
  },
  {
   "cell_type": "markdown",
   "source": [
    "Currently, we know that we do not need the article_id, domain, image_path, image_width, and image_height features."
   ],
   "metadata": {
    "collapsed": false
   }
  },
  {
   "cell_type": "code",
   "execution_count": 2,
   "outputs": [
    {
     "data": {
      "text/plain": "   source_id                                                url       bias  \\\n0         46  https://www.huffpost.com/entry/pete-buttigieg-... -10.142857   \n1         46  https://www.huffpost.com/entry/elizabeth-warre...  -8.750000   \n2         46  https://www.huffpost.com/entry/usmca-north-ame... -11.111111   \n3         46  https://www.huffpost.com/entry/john-bolton-tru... -11.375000   \n4         46  https://www.huffpost.com/entry/beyonc%C3%A9-ja... -10.500000   \n\n     quality  score_count           source  is_tv  reach  article_count  \n0  46.915997            7  Huffington Post      0      0             30  \n1  36.750120            8  Huffington Post      0      0             30  \n2  41.320375            9  Huffington Post      0      0             30  \n3  37.876554            8  Huffington Post      0      0             30  \n4  43.661313            8  Huffington Post      0      0             30  ",
      "text/html": "<div>\n<style scoped>\n    .dataframe tbody tr th:only-of-type {\n        vertical-align: middle;\n    }\n\n    .dataframe tbody tr th {\n        vertical-align: top;\n    }\n\n    .dataframe thead th {\n        text-align: right;\n    }\n</style>\n<table border=\"1\" class=\"dataframe\">\n  <thead>\n    <tr style=\"text-align: right;\">\n      <th></th>\n      <th>source_id</th>\n      <th>url</th>\n      <th>bias</th>\n      <th>quality</th>\n      <th>score_count</th>\n      <th>source</th>\n      <th>is_tv</th>\n      <th>reach</th>\n      <th>article_count</th>\n    </tr>\n  </thead>\n  <tbody>\n    <tr>\n      <th>0</th>\n      <td>46</td>\n      <td>https://www.huffpost.com/entry/pete-buttigieg-...</td>\n      <td>-10.142857</td>\n      <td>46.915997</td>\n      <td>7</td>\n      <td>Huffington Post</td>\n      <td>0</td>\n      <td>0</td>\n      <td>30</td>\n    </tr>\n    <tr>\n      <th>1</th>\n      <td>46</td>\n      <td>https://www.huffpost.com/entry/elizabeth-warre...</td>\n      <td>-8.750000</td>\n      <td>36.750120</td>\n      <td>8</td>\n      <td>Huffington Post</td>\n      <td>0</td>\n      <td>0</td>\n      <td>30</td>\n    </tr>\n    <tr>\n      <th>2</th>\n      <td>46</td>\n      <td>https://www.huffpost.com/entry/usmca-north-ame...</td>\n      <td>-11.111111</td>\n      <td>41.320375</td>\n      <td>9</td>\n      <td>Huffington Post</td>\n      <td>0</td>\n      <td>0</td>\n      <td>30</td>\n    </tr>\n    <tr>\n      <th>3</th>\n      <td>46</td>\n      <td>https://www.huffpost.com/entry/john-bolton-tru...</td>\n      <td>-11.375000</td>\n      <td>37.876554</td>\n      <td>8</td>\n      <td>Huffington Post</td>\n      <td>0</td>\n      <td>0</td>\n      <td>30</td>\n    </tr>\n    <tr>\n      <th>4</th>\n      <td>46</td>\n      <td>https://www.huffpost.com/entry/beyonc%C3%A9-ja...</td>\n      <td>-10.500000</td>\n      <td>43.661313</td>\n      <td>8</td>\n      <td>Huffington Post</td>\n      <td>0</td>\n      <td>0</td>\n      <td>30</td>\n    </tr>\n  </tbody>\n</table>\n</div>"
     },
     "execution_count": 2,
     "metadata": {},
     "output_type": "execute_result"
    }
   ],
   "source": [
    "to_drop = ['article_id', 'domain', 'image_path', 'image_width', 'image_height']\n",
    "articles.drop(to_drop, axis=1, inplace=True)\n",
    "articles.head()"
   ],
   "metadata": {
    "collapsed": false,
    "pycharm": {
     "name": "#%%\n"
    }
   }
  },
  {
   "cell_type": "markdown",
   "source": [
    "Since we're focused on the articles themselves, more than one feature describing their sources is redundant and including these features would increase training time as well as lead to overfitting. As a result, we will drop the source, is_tv, reach, and article_count features."
   ],
   "metadata": {
    "collapsed": false
   }
  },
  {
   "cell_type": "code",
   "execution_count": 3,
   "outputs": [
    {
     "data": {
      "text/plain": "                                                 url       bias    quality  \\\n0  https://www.huffpost.com/entry/pete-buttigieg-... -10.142857  46.915997   \n1  https://www.huffpost.com/entry/elizabeth-warre...  -8.750000  36.750120   \n2  https://www.huffpost.com/entry/usmca-north-ame... -11.111111  41.320375   \n3  https://www.huffpost.com/entry/john-bolton-tru... -11.375000  37.876554   \n4  https://www.huffpost.com/entry/beyonc%C3%A9-ja... -10.500000  43.661313   \n\n   score_count           source  \n0            7  Huffington Post  \n1            8  Huffington Post  \n2            9  Huffington Post  \n3            8  Huffington Post  \n4            8  Huffington Post  ",
      "text/html": "<div>\n<style scoped>\n    .dataframe tbody tr th:only-of-type {\n        vertical-align: middle;\n    }\n\n    .dataframe tbody tr th {\n        vertical-align: top;\n    }\n\n    .dataframe thead th {\n        text-align: right;\n    }\n</style>\n<table border=\"1\" class=\"dataframe\">\n  <thead>\n    <tr style=\"text-align: right;\">\n      <th></th>\n      <th>url</th>\n      <th>bias</th>\n      <th>quality</th>\n      <th>score_count</th>\n      <th>source</th>\n    </tr>\n  </thead>\n  <tbody>\n    <tr>\n      <th>0</th>\n      <td>https://www.huffpost.com/entry/pete-buttigieg-...</td>\n      <td>-10.142857</td>\n      <td>46.915997</td>\n      <td>7</td>\n      <td>Huffington Post</td>\n    </tr>\n    <tr>\n      <th>1</th>\n      <td>https://www.huffpost.com/entry/elizabeth-warre...</td>\n      <td>-8.750000</td>\n      <td>36.750120</td>\n      <td>8</td>\n      <td>Huffington Post</td>\n    </tr>\n    <tr>\n      <th>2</th>\n      <td>https://www.huffpost.com/entry/usmca-north-ame...</td>\n      <td>-11.111111</td>\n      <td>41.320375</td>\n      <td>9</td>\n      <td>Huffington Post</td>\n    </tr>\n    <tr>\n      <th>3</th>\n      <td>https://www.huffpost.com/entry/john-bolton-tru...</td>\n      <td>-11.375000</td>\n      <td>37.876554</td>\n      <td>8</td>\n      <td>Huffington Post</td>\n    </tr>\n    <tr>\n      <th>4</th>\n      <td>https://www.huffpost.com/entry/beyonc%C3%A9-ja...</td>\n      <td>-10.500000</td>\n      <td>43.661313</td>\n      <td>8</td>\n      <td>Huffington Post</td>\n    </tr>\n  </tbody>\n</table>\n</div>"
     },
     "execution_count": 3,
     "metadata": {},
     "output_type": "execute_result"
    }
   ],
   "source": [
    "to_drop = ['source_id', 'is_tv', 'reach', 'article_count']\n",
    "articles.drop(to_drop, axis=1, inplace=True)\n",
    "articles.head()"
   ],
   "metadata": {
    "collapsed": false,
    "pycharm": {
     "name": "#%%\n"
    }
   }
  },
  {
   "cell_type": "code",
   "execution_count": 4,
   "outputs": [],
   "source": [
    "articles.to_csv('../data/interim/articles_sources_removed.csv', index=False)"
   ],
   "metadata": {
    "collapsed": false,
    "pycharm": {
     "name": "#%%\n"
    }
   }
  },
  {
   "cell_type": "markdown",
   "source": [
    "### Explore Features"
   ],
   "metadata": {
    "collapsed": false
   }
  },
  {
   "cell_type": "code",
   "execution_count": 5,
   "outputs": [
    {
     "data": {
      "text/plain": "              bias      quality  score_count\ncount  5273.000000  5273.000000  5273.000000\nmean     -0.912097    39.666050     3.560592\nstd      13.064812    10.726277     2.414819\nmin     -41.500000    -2.819029     1.000000\n25%      -8.500000    32.609560     3.000000\n50%      -1.333333    41.953319     3.000000\n75%       3.000000    48.139045     4.000000\nmax      40.000000    63.224940    38.000000",
      "text/html": "<div>\n<style scoped>\n    .dataframe tbody tr th:only-of-type {\n        vertical-align: middle;\n    }\n\n    .dataframe tbody tr th {\n        vertical-align: top;\n    }\n\n    .dataframe thead th {\n        text-align: right;\n    }\n</style>\n<table border=\"1\" class=\"dataframe\">\n  <thead>\n    <tr style=\"text-align: right;\">\n      <th></th>\n      <th>bias</th>\n      <th>quality</th>\n      <th>score_count</th>\n    </tr>\n  </thead>\n  <tbody>\n    <tr>\n      <th>count</th>\n      <td>5273.000000</td>\n      <td>5273.000000</td>\n      <td>5273.000000</td>\n    </tr>\n    <tr>\n      <th>mean</th>\n      <td>-0.912097</td>\n      <td>39.666050</td>\n      <td>3.560592</td>\n    </tr>\n    <tr>\n      <th>std</th>\n      <td>13.064812</td>\n      <td>10.726277</td>\n      <td>2.414819</td>\n    </tr>\n    <tr>\n      <th>min</th>\n      <td>-41.500000</td>\n      <td>-2.819029</td>\n      <td>1.000000</td>\n    </tr>\n    <tr>\n      <th>25%</th>\n      <td>-8.500000</td>\n      <td>32.609560</td>\n      <td>3.000000</td>\n    </tr>\n    <tr>\n      <th>50%</th>\n      <td>-1.333333</td>\n      <td>41.953319</td>\n      <td>3.000000</td>\n    </tr>\n    <tr>\n      <th>75%</th>\n      <td>3.000000</td>\n      <td>48.139045</td>\n      <td>4.000000</td>\n    </tr>\n    <tr>\n      <th>max</th>\n      <td>40.000000</td>\n      <td>63.224940</td>\n      <td>38.000000</td>\n    </tr>\n  </tbody>\n</table>\n</div>"
     },
     "execution_count": 5,
     "metadata": {},
     "output_type": "execute_result"
    }
   ],
   "source": [
    "articles.describe()"
   ],
   "metadata": {
    "collapsed": false,
    "pycharm": {
     "name": "#%%\n"
    }
   }
  },
  {
   "cell_type": "code",
   "execution_count": 6,
   "outputs": [
    {
     "data": {
      "text/plain": "                           bias    quality  score_count\nsource                                                 \n.6abc.com              1.000000  35.282252     3.000000\n.abc7chicago.com       0.000000  51.076589     3.000000\n.accountingtoday.com   0.000000  40.229584     3.000000\n.allafrica.com         0.000000  48.295204     3.000000\n.bjpenn.com            0.000000  37.345406     3.000000\n...                         ...        ...          ...\nnewser               -10.000000  40.204322     3.000000\nsoompi                 0.000000  37.197250     3.000000\nthe dodo               0.000000  34.587212     2.333333\nthreatpost             0.000000  47.946301     3.000000\nweather.com           -1.833333  50.408855     2.875000\n\n[385 rows x 3 columns]",
      "text/html": "<div>\n<style scoped>\n    .dataframe tbody tr th:only-of-type {\n        vertical-align: middle;\n    }\n\n    .dataframe tbody tr th {\n        vertical-align: top;\n    }\n\n    .dataframe thead th {\n        text-align: right;\n    }\n</style>\n<table border=\"1\" class=\"dataframe\">\n  <thead>\n    <tr style=\"text-align: right;\">\n      <th></th>\n      <th>bias</th>\n      <th>quality</th>\n      <th>score_count</th>\n    </tr>\n    <tr>\n      <th>source</th>\n      <th></th>\n      <th></th>\n      <th></th>\n    </tr>\n  </thead>\n  <tbody>\n    <tr>\n      <th>.6abc.com</th>\n      <td>1.000000</td>\n      <td>35.282252</td>\n      <td>3.000000</td>\n    </tr>\n    <tr>\n      <th>.abc7chicago.com</th>\n      <td>0.000000</td>\n      <td>51.076589</td>\n      <td>3.000000</td>\n    </tr>\n    <tr>\n      <th>.accountingtoday.com</th>\n      <td>0.000000</td>\n      <td>40.229584</td>\n      <td>3.000000</td>\n    </tr>\n    <tr>\n      <th>.allafrica.com</th>\n      <td>0.000000</td>\n      <td>48.295204</td>\n      <td>3.000000</td>\n    </tr>\n    <tr>\n      <th>.bjpenn.com</th>\n      <td>0.000000</td>\n      <td>37.345406</td>\n      <td>3.000000</td>\n    </tr>\n    <tr>\n      <th>...</th>\n      <td>...</td>\n      <td>...</td>\n      <td>...</td>\n    </tr>\n    <tr>\n      <th>newser</th>\n      <td>-10.000000</td>\n      <td>40.204322</td>\n      <td>3.000000</td>\n    </tr>\n    <tr>\n      <th>soompi</th>\n      <td>0.000000</td>\n      <td>37.197250</td>\n      <td>3.000000</td>\n    </tr>\n    <tr>\n      <th>the dodo</th>\n      <td>0.000000</td>\n      <td>34.587212</td>\n      <td>2.333333</td>\n    </tr>\n    <tr>\n      <th>threatpost</th>\n      <td>0.000000</td>\n      <td>47.946301</td>\n      <td>3.000000</td>\n    </tr>\n    <tr>\n      <th>weather.com</th>\n      <td>-1.833333</td>\n      <td>50.408855</td>\n      <td>2.875000</td>\n    </tr>\n  </tbody>\n</table>\n<p>385 rows × 3 columns</p>\n</div>"
     },
     "execution_count": 6,
     "metadata": {},
     "output_type": "execute_result"
    }
   ],
   "source": [
    "articles.groupby('source').mean()"
   ],
   "metadata": {
    "collapsed": false,
    "pycharm": {
     "name": "#%%\n"
    }
   }
  },
  {
   "cell_type": "code",
   "execution_count": 8,
   "outputs": [
    {
     "ename": "ValueError",
     "evalue": "Could not interpret input 'source'",
     "output_type": "error",
     "traceback": [
      "\u001B[1;31m---------------------------------------------------------------------------\u001B[0m",
      "\u001B[1;31mValueError\u001B[0m                                Traceback (most recent call last)",
      "\u001B[1;32m<ipython-input-8-652683d672b9>\u001B[0m in \u001B[0;36m<module>\u001B[1;34m\u001B[0m\n\u001B[0;32m      1\u001B[0m \u001B[0mfig\u001B[0m\u001B[1;33m,\u001B[0m \u001B[0max\u001B[0m \u001B[1;33m=\u001B[0m \u001B[0mplt\u001B[0m\u001B[1;33m.\u001B[0m\u001B[0msubplots\u001B[0m\u001B[1;33m(\u001B[0m\u001B[1;33m)\u001B[0m\u001B[1;33m\u001B[0m\u001B[1;33m\u001B[0m\u001B[0m\n\u001B[1;32m----> 2\u001B[1;33m \u001B[0msns\u001B[0m\u001B[1;33m.\u001B[0m\u001B[0mscatterplot\u001B[0m\u001B[1;33m(\u001B[0m\u001B[0mx\u001B[0m\u001B[1;33m=\u001B[0m\u001B[1;34m'source'\u001B[0m\u001B[1;33m,\u001B[0m \u001B[0my\u001B[0m\u001B[1;33m=\u001B[0m\u001B[1;34m'quality'\u001B[0m\u001B[1;33m,\u001B[0m \u001B[0mhue\u001B[0m\u001B[1;33m=\u001B[0m\u001B[1;34m'bias'\u001B[0m\u001B[1;33m,\u001B[0m \u001B[0mdata\u001B[0m\u001B[1;33m=\u001B[0m\u001B[0marticles\u001B[0m\u001B[1;33m.\u001B[0m\u001B[0mgroupby\u001B[0m\u001B[1;33m(\u001B[0m\u001B[1;34m'source'\u001B[0m\u001B[1;33m)\u001B[0m\u001B[1;33m.\u001B[0m\u001B[0mmean\u001B[0m\u001B[1;33m(\u001B[0m\u001B[1;33m)\u001B[0m\u001B[1;33m)\u001B[0m\u001B[1;33m\u001B[0m\u001B[1;33m\u001B[0m\u001B[0m\n\u001B[0m\u001B[0;32m      3\u001B[0m \u001B[0mfig\u001B[0m\u001B[1;33m.\u001B[0m\u001B[0mset_size_inches\u001B[0m\u001B[1;33m(\u001B[0m\u001B[1;36m12\u001B[0m\u001B[1;33m,\u001B[0m \u001B[1;36m12\u001B[0m\u001B[1;33m)\u001B[0m\u001B[1;33m\u001B[0m\u001B[1;33m\u001B[0m\u001B[0m\n\u001B[0;32m      4\u001B[0m \u001B[0mplt\u001B[0m\u001B[1;33m.\u001B[0m\u001B[0mshow\u001B[0m\u001B[1;33m(\u001B[0m\u001B[1;33m)\u001B[0m\u001B[1;33m\u001B[0m\u001B[1;33m\u001B[0m\u001B[0m\n\u001B[0;32m      5\u001B[0m \u001B[1;33m\u001B[0m\u001B[0m\n",
      "\u001B[1;32m~\\anaconda3\\lib\\site-packages\\seaborn\\relational.py\u001B[0m in \u001B[0;36mscatterplot\u001B[1;34m(x, y, hue, style, size, data, palette, hue_order, hue_norm, sizes, size_order, size_norm, markers, style_order, x_bins, y_bins, units, estimator, ci, n_boot, alpha, x_jitter, y_jitter, legend, ax, **kwargs)\u001B[0m\n\u001B[0;32m   1388\u001B[0m                 legend=\"brief\", ax=None, **kwargs):\n\u001B[0;32m   1389\u001B[0m \u001B[1;33m\u001B[0m\u001B[0m\n\u001B[1;32m-> 1390\u001B[1;33m     p = _ScatterPlotter(\n\u001B[0m\u001B[0;32m   1391\u001B[0m         \u001B[0mx\u001B[0m\u001B[1;33m=\u001B[0m\u001B[0mx\u001B[0m\u001B[1;33m,\u001B[0m \u001B[0my\u001B[0m\u001B[1;33m=\u001B[0m\u001B[0my\u001B[0m\u001B[1;33m,\u001B[0m \u001B[0mhue\u001B[0m\u001B[1;33m=\u001B[0m\u001B[0mhue\u001B[0m\u001B[1;33m,\u001B[0m \u001B[0mstyle\u001B[0m\u001B[1;33m=\u001B[0m\u001B[0mstyle\u001B[0m\u001B[1;33m,\u001B[0m \u001B[0msize\u001B[0m\u001B[1;33m=\u001B[0m\u001B[0msize\u001B[0m\u001B[1;33m,\u001B[0m \u001B[0mdata\u001B[0m\u001B[1;33m=\u001B[0m\u001B[0mdata\u001B[0m\u001B[1;33m,\u001B[0m\u001B[1;33m\u001B[0m\u001B[1;33m\u001B[0m\u001B[0m\n\u001B[0;32m   1392\u001B[0m         \u001B[0mpalette\u001B[0m\u001B[1;33m=\u001B[0m\u001B[0mpalette\u001B[0m\u001B[1;33m,\u001B[0m \u001B[0mhue_order\u001B[0m\u001B[1;33m=\u001B[0m\u001B[0mhue_order\u001B[0m\u001B[1;33m,\u001B[0m \u001B[0mhue_norm\u001B[0m\u001B[1;33m=\u001B[0m\u001B[0mhue_norm\u001B[0m\u001B[1;33m,\u001B[0m\u001B[1;33m\u001B[0m\u001B[1;33m\u001B[0m\u001B[0m\n",
      "\u001B[1;32m~\\anaconda3\\lib\\site-packages\\seaborn\\relational.py\u001B[0m in \u001B[0;36m__init__\u001B[1;34m(self, x, y, hue, size, style, data, palette, hue_order, hue_norm, sizes, size_order, size_norm, dashes, markers, style_order, x_bins, y_bins, units, estimator, ci, n_boot, alpha, x_jitter, y_jitter, legend)\u001B[0m\n\u001B[0;32m    883\u001B[0m                  legend=None):\n\u001B[0;32m    884\u001B[0m \u001B[1;33m\u001B[0m\u001B[0m\n\u001B[1;32m--> 885\u001B[1;33m         plot_data = self.establish_variables(\n\u001B[0m\u001B[0;32m    886\u001B[0m             \u001B[0mx\u001B[0m\u001B[1;33m,\u001B[0m \u001B[0my\u001B[0m\u001B[1;33m,\u001B[0m \u001B[0mhue\u001B[0m\u001B[1;33m,\u001B[0m \u001B[0msize\u001B[0m\u001B[1;33m,\u001B[0m \u001B[0mstyle\u001B[0m\u001B[1;33m,\u001B[0m \u001B[0munits\u001B[0m\u001B[1;33m,\u001B[0m \u001B[0mdata\u001B[0m\u001B[1;33m\u001B[0m\u001B[1;33m\u001B[0m\u001B[0m\n\u001B[0;32m    887\u001B[0m         )\n",
      "\u001B[1;32m~\\anaconda3\\lib\\site-packages\\seaborn\\relational.py\u001B[0m in \u001B[0;36mestablish_variables\u001B[1;34m(self, x, y, hue, size, style, units, data)\u001B[0m\n\u001B[0;32m    135\u001B[0m                 \u001B[1;32mif\u001B[0m \u001B[0misinstance\u001B[0m\u001B[1;33m(\u001B[0m\u001B[0mvar\u001B[0m\u001B[1;33m,\u001B[0m \u001B[0mstr\u001B[0m\u001B[1;33m)\u001B[0m\u001B[1;33m:\u001B[0m\u001B[1;33m\u001B[0m\u001B[1;33m\u001B[0m\u001B[0m\n\u001B[0;32m    136\u001B[0m                     \u001B[0merr\u001B[0m \u001B[1;33m=\u001B[0m \u001B[1;34m\"Could not interpret input '{}'\"\u001B[0m\u001B[1;33m.\u001B[0m\u001B[0mformat\u001B[0m\u001B[1;33m(\u001B[0m\u001B[0mvar\u001B[0m\u001B[1;33m)\u001B[0m\u001B[1;33m\u001B[0m\u001B[1;33m\u001B[0m\u001B[0m\n\u001B[1;32m--> 137\u001B[1;33m                     \u001B[1;32mraise\u001B[0m \u001B[0mValueError\u001B[0m\u001B[1;33m(\u001B[0m\u001B[0merr\u001B[0m\u001B[1;33m)\u001B[0m\u001B[1;33m\u001B[0m\u001B[1;33m\u001B[0m\u001B[0m\n\u001B[0m\u001B[0;32m    138\u001B[0m \u001B[1;33m\u001B[0m\u001B[0m\n\u001B[0;32m    139\u001B[0m             \u001B[1;31m# Extract variable names\u001B[0m\u001B[1;33m\u001B[0m\u001B[1;33m\u001B[0m\u001B[1;33m\u001B[0m\u001B[0m\n",
      "\u001B[1;31mValueError\u001B[0m: Could not interpret input 'source'"
     ]
    },
    {
     "data": {
      "text/plain": "<Figure size 432x288 with 1 Axes>",
      "image/png": "[encoded data removed]"
     },
     "metadata": {
      "needs_background": "light"
     },
     "output_type": "display_data"
    }
   ],
   "source": [
    "fig, ax = plt.subplots()\n",
    "sns.scatterplot(x='source', y='quality', hue='bias', data=articles.groupby('source').mean())\n",
    "fig.set_size_inches(12, 12)\n",
    "plt.show()"
   ],
   "metadata": {
    "collapsed": false,
    "pycharm": {
     "name": "#%%\n"
    }
   }
  },
  {
   "cell_type": "code",
   "execution_count": null,
   "outputs": [],
   "source": [],
   "metadata": {
    "collapsed": false,
    "pycharm": {
     "name": "#%%\n"
    }
   }
  }
 ],
 "metadata": {
  "kernelspec": {
   "name": "pycharm-d76a7824",
   "language": "python",
   "display_name": "PyCharm (aiclubproject1newsfeed)"
  },
  "language_info": {
   "codemirror_mode": {
    "name": "ipython",
    "version": 2
   },
   "file_extension": ".py",
   "mimetype": "text/x-python",
   "name": "python",
   "nbconvert_exporter": "python",
   "pygments_lexer": "ipython2",
   "version": "2.7.6"
  }
 },
 "nbformat": 4,
 "nbformat_minor": 0
}
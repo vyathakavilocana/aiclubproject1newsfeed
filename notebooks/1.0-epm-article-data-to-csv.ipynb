{
 "cells": [
  {
   "cell_type": "markdown",
   "source": [
    "# Article Data Operations\n",
    "\n",
    "---\n",
    "### Define a function which loads the JSON file"
   ],
   "metadata": {
    "collapsed": false
   }
  },
  {
   "cell_type": "code",
   "execution_count": 1,
   "outputs": [],
   "source": [
    "def load_json_list(path):\n",
    "    from json import load\n",
    "\n",
    "    # Open and load the contents of the JSON file\n",
    "    with open(path, 'r') as raw_fp:\n",
    "        raw_objs = load(raw_fp)\n",
    "\n",
    "    # Print how many objects were read\n",
    "    print('Articles Found:', len(raw_objs))\n",
    "\n",
    "    return raw_objs"
   ],
   "metadata": {
    "collapsed": false,
    "pycharm": {
     "name": "#%%\n"
    }
   }
  },
  {
   "cell_type": "markdown",
   "source": [
    "### Load JSON data, translate it to a pandas dataframe, and export to CSV"
   ],
   "metadata": {
    "collapsed": false
   }
  },
  {
   "cell_type": "code",
   "execution_count": 2,
   "outputs": [
    {
     "name": "stdout",
     "output_type": "stream",
     "text": [
      "Articles Found: 5273\n"
     ]
    }
   ],
   "source": [
    "import pandas as pd\n",
    "\n",
    "# Define the filepath of the input data\n",
    "objs = load_json_list('../data/raw/articles.json')\n",
    "\n",
    "# Grab the first entry from the list of dictionaries\n",
    "top = objs[0]\n",
    "\n",
    "# Keys correspond to dataframe columns\n",
    "cols = top.keys()\n",
    "\n",
    "# Make an empty list to store dataframe entries\n",
    "data = []\n",
    "\n",
    "# Iterate through all of the JSON objects\n",
    "for o in objs:\n",
    "    # The list of each object's values is an entry in the dataframe\n",
    "    data.append(o.values())\n",
    "\n",
    "# Create the pandas DataFrame\n",
    "df = pd.DataFrame(data, columns=cols)\n",
    "\n",
    "# Export the dataframe to a CSV file\n",
    "df.to_csv('../data/interim/articles.csv', index=None)"
   ],
   "metadata": {
    "collapsed": false,
    "pycharm": {
     "name": "#%%\n"
    }
   }
  },
  {
   "cell_type": "code",
   "execution_count": 2,
   "metadata": {
    "collapsed": true
   },
   "outputs": [],
   "source": []
  }
 ],
 "metadata": {
  "kernelspec": {
   "name": "pycharm-d76a7824",
   "language": "python",
   "display_name": "PyCharm (aiclubproject1newsfeed)"
  },
  "language_info": {
   "codemirror_mode": {
    "name": "ipython",
    "version": 2
   },
   "file_extension": ".py",
   "mimetype": "text/x-python",
   "name": "python",
   "nbconvert_exporter": "python",
   "pygments_lexer": "ipython2",
   "version": "2.7.6"
  }
 },
 "nbformat": 4,
 "nbformat_minor": 0
}